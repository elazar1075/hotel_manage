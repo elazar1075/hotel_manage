{
  "nbformat": 4,
  "nbformat_minor": 0,
  "metadata": {
    "colab": {
      "name": " Hotel_Management_system.ipynb",
      "provenance": [],
      "collapsed_sections": [],
      "authorship_tag": "ABX9TyPQiQkbdxbOpMm04y2cEC5H",
      "include_colab_link": true
    },
    "kernelspec": {
      "name": "python3",
      "display_name": "Python 3"
    },
    "language_info": {
      "name": "python"
    }
  },
  "cells": [
    {
      "cell_type": "markdown",
      "metadata": {
        "id": "view-in-github",
        "colab_type": "text"
      },
      "source": [
        "<a href=\"https://colab.research.google.com/github/elazar1075/hotel_manage/blob/main/Hotel_Management_system.ipynb\" target=\"_parent\"><img src=\"https://colab.research.google.com/assets/colab-badge.svg\" alt=\"Open In Colab\"/></a>"
      ]
    },
    {
      "cell_type": "markdown",
      "metadata": {
        "id": "9q82dF0-TP_n"
      },
      "source": [
        "## Hotel Management System\n",
        "This system purpuse is to manage Reservations , Room availability , Check in and Check out operations,the system responsible to prevent overlaping between reservations and Room occupation , The system will free Rooms due to Reservation cancelation.\n",
        "\n"
      ]
    },
    {
      "cell_type": "markdown",
      "metadata": {
        "id": "IXqzEaidLOec"
      },
      "source": [
        "The program usese in Python API , re ,datetime,csv,json and fpdf"
      ]
    },
    {
      "cell_type": "code",
      "metadata": {
        "colab": {
          "base_uri": "https://localhost:8080/"
        },
        "id": "D_NsoCkbqFeo",
        "outputId": "ec2356c1-c831-4366-832b-2ceb34a58690"
      },
      "source": [
        "!pip install fpdf\n",
        "!pip install schedule"
      ],
      "execution_count": null,
      "outputs": [
        {
          "output_type": "stream",
          "text": [
            "Requirement already satisfied: fpdf in /usr/local/lib/python3.7/dist-packages (1.7.2)\n",
            "Requirement already satisfied: schedule in /usr/local/lib/python3.7/dist-packages (1.1.0)\n"
          ],
          "name": "stdout"
        }
      ]
    },
    {
      "cell_type": "code",
      "metadata": {
        "id": "sdKahlTpCSgJ"
      },
      "source": [
        "import os\n",
        "import csv\n",
        "import json\n",
        "import re\n",
        "import schedule\n",
        "import time\n",
        "from datetime import datetime, timedelta\n",
        "import pytz\n",
        "from fpdf import FPDF\n"
      ],
      "execution_count": null,
      "outputs": []
    },
    {
      "cell_type": "markdown",
      "metadata": {
        "id": "rGW2A5JPXAJQ"
      },
      "source": [
        "List for Menu's and card Input users and RegEx checking Lists"
      ]
    },
    {
      "cell_type": "code",
      "metadata": {
        "id": "inrm0qFMII6e"
      },
      "source": [
        "main_menu = ['Apply Reservation', 'Cancel Reservation', 'Show Room Prices', \\\n",
        "            'Check In','check out','Show/print Reservation','Guests in Hotel','Future Reservation with Guest details','Search available Room','Reset System','EXIT']\n",
        "show_res_menu=['Search Done Reservations ','Search Canceled Reservations','Search Future Reservations','Search Actual Reservations','EXIT']\n",
        "make_resv_params = ['First Name : ', 'Last Name : ', 'Guest  ID : ', 'Check in[dd/mm/yyyy] : ', 'Duration : ', \\\n",
        "                    'Room Type [0]single [1]king size [2]double [3]twin [4]triple [5]quad [6]suite : ', \\\n",
        "                    'Cell Phone : ','e-mail : ','Payment Method  [1]-Cash [2]-Credit Card [3]-Cheqes']\n",
        "make_resv_regex=['([A-Za-z]*)\\s?-?([A-Za-z]*)?','([A-Za-z]*)\\s?-?([A-Za-z]*)?','\\d{9,}',\\\n",
        " '\\d{1,2}/\\d{1,2}/20\\d{2}','\\d{1,2}','[0-6]','\\d+','([\\w\\.-]+)@([\\w\\.-]+)','[1-3]']\n",
        "search_room_params=['Date to Check in : ','Duration : ']\n",
        "search_room_regex=['\\d{1,2}/\\d{1,2}/20\\d{2}','\\d{1,3}']\n",
        "#'[a-z]+\\s?[a-z]+?'\n",
        "cancel_resurvation_card=['By Enter Reservation ','Search reservation to Cancel','Quit']\n",
        "room_type_list=['single','king size','double','twin','triple','quad','suite']"
      ],
      "execution_count": null,
      "outputs": []
    },
    {
      "cell_type": "code",
      "metadata": {
        "id": "4rMYsVp0S9yK"
      },
      "source": [
        "def reservatin_show(a,b,c,d,e,f,g,h,i,j):\n",
        "  print(f\"\"\"\n",
        "        Name :{a} {b} , ID: {c}\n",
        "        Check in: {d} ,Duration: {e} \n",
        "        Room Number :{f}, Room Type: {g}\n",
        "        phone:{h}  ,  email: {i}\n",
        "        Payment Method:{j}\n",
        "  \"\"\")"
      ],
      "execution_count": null,
      "outputs": []
    },
    {
      "cell_type": "code",
      "metadata": {
        "id": "6hDzghnZbtrH",
        "colab": {
          "base_uri": "https://localhost:8080/"
        },
        "outputId": "87de94ee-bfaf-4e0e-c707-db36e4ece02d"
      },
      "source": [
        "reservatin_show('elaza','dahan','037693355','20/02/2022',3,'single','101','0524622788','elazar1075@gmail.com','cash')"
      ],
      "execution_count": null,
      "outputs": [
        {
          "output_type": "stream",
          "text": [
            "\n",
            "        Name :elaza dahan , ID: 037693355\n",
            "        Check in: 20/02/2022 ,Duration: 3 \n",
            "        Room Number :single, Room Type: 101\n",
            "        phone:0524622788  ,  email: elazar1075@gmail.com\n",
            "        Payment Method:cash\n",
            "  \n"
          ],
          "name": "stdout"
        }
      ]
    },
    {
      "cell_type": "markdown",
      "metadata": {
        "id": "y2CstNzlX0Y9"
      },
      "source": [
        "####Room Date Table\n",
        "The Room Date Table is a csv file that represent rooms vs. Dates \n",
        "The first row present dates and the first column present Room numbers, the table cells can hold some values ,see explaination below\n",
        "\n",
        "'AV' mean available it mean that in this room and in that day the room is free and can be occupied by Reservation.\n",
        "\n",
        "'CKIN' mean Check In ,the room is checked in  this day ,and can only use for check out .\n",
        "\n",
        "'CKOUT' mean Check out ,you can use this date and that room only for Check in.\n",
        "\n",
        "'OC' mean occupied , this room is occupied allready you can't use  this room in that date.\n",
        "\n",
        "'OL' mean overlapping this mean that in this room and that day the room is Checked out and checked in in the same day 'OL'='CKOUT'+ 'CKIN'\n",
        "the room is occupied you can't use it  for another reservation."
      ]
    },
    {
      "cell_type": "markdown",
      "metadata": {
        "id": "s72ufmSxX62l"
      },
      "source": [
        "![image.png](data:image/png;base64,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)"
      ]
    },
    {
      "cell_type": "markdown",
      "metadata": {
        "id": "sxl639e2e0vk"
      },
      "source": [
        "The function 'find_available_rooms' search in RoomDate csv file for available rooms the function get params Check in , Duration time and a list of Room numbers and resturn list of room that available for this dates."
      ]
    },
    {
      "cell_type": "code",
      "metadata": {
        "id": "d4QK3CStIKeF"
      },
      "source": [
        "def find_available_rooms(chkin_date, duration, ls_rooms):\n",
        "    room_date_csv = 'RoomDate.csv'\n",
        "    with open(room_date_csv, 'r') as f_rooms:\n",
        "        f = csv.reader(f_rooms)\n",
        "        starti = 0\n",
        "        endi = 0\n",
        "        for c, i in enumerate(f):\n",
        "            if c == 0:\n",
        "                starti = i.index(chkin_date)\n",
        "                d = datetime.strptime(chkin_date, '%d/%m/%Y')\n",
        "                d = d + timedelta(days=duration)\n",
        "                endi = i.index(d.strftime('%d/%m/%Y'))\n",
        "                continue\n",
        "            if i[0] not in ls_rooms:\n",
        "                continue\n",
        "            for k in range(starti, endi + 1):\n",
        "                if k == starti + 1 and  i[k] == 'CKOUT' :\n",
        "                    break\n",
        "                if k == endi + 1 and i[k] == 'CKIN' :\n",
        "                    break\n",
        "                if i[k] == 'AV' :\n",
        "                    break\n",
        "                if i[0] in ls_rooms:\n",
        "                    ls_rooms.remove(i[0])\n",
        "        return ls_rooms\n"
      ],
      "execution_count": null,
      "outputs": []
    },
    {
      "cell_type": "code",
      "metadata": {
        "id": "mNhk3KvUI0lp",
        "colab": {
          "base_uri": "https://localhost:8080/"
        },
        "outputId": "64b41ef5-b5cd-4626-818b-6ee863db789e"
      },
      "source": [
        "print(find_available_rooms('26/05/2021',4,['101','102','103']))"
      ],
      "execution_count": null,
      "outputs": [
        {
          "output_type": "stream",
          "text": [
            "['101', '103']\n"
          ],
          "name": "stdout"
        }
      ]
    },
    {
      "cell_type": "markdown",
      "metadata": {
        "id": "ERReWHtIfs7c"
      },
      "source": [
        "The function 'free_or_occupied_room' occupied room or free room depend if this is a new Reservation or Reservation cancelation , the function params is check in date and duration ,number of room and key 'occupied' or 'free' the function access to RoomDate csv file"
      ]
    },
    {
      "cell_type": "code",
      "metadata": {
        "id": "bzDYcMGFJIhU"
      },
      "source": [
        "def free_or_occupied_room(chkin_date, duration, str_room_number,key='occupied'):\n",
        "    f_o=-1\n",
        "    if key=='free' :\n",
        "        f_o=0\n",
        "    else:\n",
        "        f_o=-1\n",
        "\n",
        "\n",
        "    room_date_csv = 'RoomDate.csv'\n",
        "    lst_csv = list()\n",
        "    lst_csv2 = list()\n",
        "    starti = 0\n",
        "    endi = 0\n",
        "\n",
        "\n",
        "    with open(room_date_csv, 'r') as radb:\n",
        "        f = csv.reader(radb)\n",
        "\n",
        "        for c, i in enumerate(f):\n",
        "            lst_csv.append(i)\n",
        "            lst_csv2.append(i)\n",
        "            if c == 0:\n",
        "                starti = i.index(chkin_date)\n",
        "                d = datetime.strptime(chkin_date, '%d/%m/%Y')\n",
        "                d = d + timedelta(days=duration)\n",
        "                endi = i.index(d.strftime('%d/%m/%Y'))\n",
        "    for c, item in enumerate(lst_csv):\n",
        "        if str_room_number in item:\n",
        "            for j in range(starti, endi + 1):\n",
        "                if j == starti:\n",
        "                    if item[j] == ['CKIN','CKOUT'][f_o]:\n",
        "                        lst_csv2[c][j] = ['AV','OL'][f_o]\n",
        "                        continue\n",
        "                    elif item[j] == ['OL','AV'][f_o]:\n",
        "                        lst_csv2[c][j] = ['CKOUT','CKIN'][f_o]\n",
        "                        continue\n",
        "                    else:\n",
        "                        return False\n",
        "                elif j == endi:\n",
        "                    if item[j] == ['OL','CKIN'][f_o]:\n",
        "                        lst_csv2[c][j] =['CKIN','OL'][f_o]\n",
        "                        continue\n",
        "                    elif item[j] == ['CKOUT','AV'][f_o]:\n",
        "                        lst_csv2[c][j] = ['AV','CKOUT'][f_o]\n",
        "                        continue\n",
        "                    else:\n",
        "                        return False\n",
        "                elif lst_csv2[c][j] == ['OC','AV'][f_o]:\n",
        "                  lst_csv2[c][j] =['AV','OC'][f_o]\n",
        "                elif item[j] !=['OC','OL'][f_o]:\n",
        "                    return False\n",
        "    with open(room_date_csv, 'w', newline='') as f_rooms_write:\n",
        "        writer = csv.writer(f_rooms_write)\n",
        "        writer.writerows(lst_csv2)\n",
        "    return True"
      ],
      "execution_count": null,
      "outputs": []
    },
    {
      "cell_type": "code",
      "metadata": {
        "id": "wUOHia8EQfqw",
        "colab": {
          "base_uri": "https://localhost:8080/"
        },
        "outputId": "b868aaec-133d-4927-e668-0d38af156877"
      },
      "source": [
        "free_or_occupied_room('03/06/2021',5,'306',key='free')\n"
      ],
      "execution_count": null,
      "outputs": [
        {
          "output_type": "execute_result",
          "data": {
            "text/plain": [
              "False"
            ]
          },
          "metadata": {
            "tags": []
          },
          "execution_count": 69
        }
      ]
    },
    {
      "cell_type": "markdown",
      "metadata": {
        "id": "x_dGoDGzEYwZ"
      },
      "source": [
        "The funcion 'list_rooms_by_type' return list of room numbers due to its parameter room_type that can be the Room Type for Ex. 'single' , 'king size', 'suite' etc. if room_type='all' it's return all the Rooms in the Hotel."
      ]
    },
    {
      "cell_type": "code",
      "metadata": {
        "id": "UBm9cq5JEoGH"
      },
      "source": [
        "def list_rooms_by_type(room_type):\n",
        "      room_list=list()\n",
        "      with open('rooms.json','r')as f_room_attr:\n",
        "          room_dict=json.load(f_room_attr)\n",
        "      for room in room_dict['rooms']:\n",
        "        if room_type=='all':\n",
        "          room_list.append(room['number'])\n",
        "        elif room['room type']==room_type :\n",
        "              room_list.append(room['number'])\n",
        "      return  room_list\n"
      ],
      "execution_count": null,
      "outputs": []
    },
    {
      "cell_type": "code",
      "metadata": {
        "id": "tsc8MHjLaJh_",
        "colab": {
          "base_uri": "https://localhost:8080/"
        },
        "outputId": "f76c6031-22b0-4ccd-fefe-d42ebb4c7624"
      },
      "source": [
        " ls=list_rooms_by_type('suite')\n",
        " for i in ls:\n",
        "   print (f'Room number {i}')"
      ],
      "execution_count": null,
      "outputs": [
        {
          "output_type": "stream",
          "text": [
            "Room number 303\n",
            "Room number 304\n",
            "Room number 305\n",
            "Room number 306\n"
          ],
          "name": "stdout"
        }
      ]
    },
    {
      "cell_type": "markdown",
      "metadata": {
        "id": "cpNEN3ahvzNW"
      },
      "source": [
        "##Json Files\n",
        "Few words about json files\n",
        "There is a several json files in the system.\n",
        "'guests.json' holds the guests details cards when the guest checked in \\checked out or cancel the reservation the guest card updated accordinley.\n",
        "'reservation4.json' hold the future reservation detailed card.\n",
        "'canceled_reservs.json' holds the canceled reservations, when reservation canceled the relevant reservation card moves from 'reservation4.json' to 'canceled_reservs.json'.\n",
        "'active_reservs.json' holds the reservation that checked in , when the guest is checked in the relevant reservation card moves from 'reservation4.json'  to  'active_reservs.json'.\n",
        "'done_reservs.json' holds the reservation that ended, when the guest is checked out the relevant reservation moves from 'active_reservs.json' to 'done_reservs.json'.\n",
        "\n",
        "'rooms.json' holds each room in seperate card and it's attributes (room type)\n",
        "'prices.json' hold the room type prices /and bevrage prices(not used yet!)\n"
      ]
    },
    {
      "cell_type": "markdown",
      "metadata": {
        "id": "hULcPjNYzpWB"
      },
      "source": [
        "Example json Files\n",
        "![image.png](data:image/png;base64,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)"
      ]
    },
    {
      "cell_type": "markdown",
      "metadata": {
        "id": "cL2JuKJBraGx"
      },
      "source": [
        "The function 'add_reservation' takes parameters and create a reservation card enterance in 'reservation4.json; file that hold the future resrvations , the function checks if the guest is registered in 'guests.json' file that hold the guest card if the guest is not regitered the reservation will not created.you need to register the guest with 'register_guest' function before using this function to make reservation."
      ]
    },
    {
      "cell_type": "code",
      "metadata": {
        "id": "i34CP6UNXZ2Z"
      },
      "source": [
        "def add_reservation(first_name,last_name,guest_id,check_in,\\\n",
        "        duration,room_type,room_number,include_breakfest,include_WiFi,pmethod):\n",
        "\n",
        "  is_exist=False\n",
        "  with open('guests.json','r') as f_guest:\n",
        "      guest_dict = json.load(f_guest)\n",
        "  for item in guest_dict[\"guests\"]:\n",
        "      if item['id'] == guest_id:\n",
        "          is_exist=True\n",
        "          break\n",
        "  if is_exist==False:\n",
        "      return -1\n",
        "  reservation_dict={}\n",
        "  list_of_reservations=list()\n",
        "  d = datetime.strptime(check_in,'%d/%m/%Y')\n",
        "  d=d+timedelta(days=duration)\n",
        "  check_out=d.strftime('%d/%m/%Y')\n",
        "  with open(\"reservations4.json\", 'r') as reserv_list:\n",
        "      reservation_dict = json.load(reserv_list)\n",
        "  for res in reservation_dict['reservations']:\n",
        "      list_of_reservations.append(int(res['reservation']))\n",
        "  max_num=reservation_dict['max_reservation'][0][\"max\"]\n",
        "  reservation_dict['max_reservation'][0][\"max\"]=int(max_num) + 1\n",
        "  # print(room_type)\n",
        "  room_price=get_room_price(room_type) * duration\n",
        "  date_issu = datetime.now().strftime('%d/%m/%Y %H:%M:%S')\n",
        "  dict_res={'reservation':max_num,'date issu':date_issu,'first name':first_name,'last name':last_name,\\\n",
        "            'id':guest_id,'check in':check_in,'check out':check_out,'duration':duration,\\\n",
        "            'room type':room_type,'room number':room_number,'include BF':include_breakfest,\n",
        "            'include WiFi':include_WiFi,'room price':room_price,\"pay method\":pmethod}\n",
        "  reservation_dict['reservations'].append(dict_res)\n",
        "  with open(\"reservations4.json\", 'w') as reserv_list:\n",
        "      json.dump(reservation_dict, reserv_list, indent=4)\n",
        "  pass\n",
        "  return max_num"
      ],
      "execution_count": null,
      "outputs": []
    },
    {
      "cell_type": "markdown",
      "metadata": {
        "id": "8rMHDdoqesSa"
      },
      "source": [
        ""
      ]
    },
    {
      "cell_type": "markdown",
      "metadata": {
        "id": "Nm2HeFmVqV35"
      },
      "source": [
        "The function 'delete_resrvation' take reservation from 'reservation4.json' file and put in \n",
        "'canceled_reservs.json' or 'done_reservs.json'   or 'active_reservs.json' depend if the reservation was canceled  or checked out or checked in \n",
        "(key = 'cancel' or 'done' or 'active' respectivly)."
      ]
    },
    {
      "cell_type": "code",
      "metadata": {
        "id": "yHmla0LUC4uy"
      },
      "source": [
        "def delete_reservation(int_reserv_to_del,key='done') :\n",
        "    is_found=False\n",
        "    to_del=int()\n",
        "    reservation_dict=dict()\n",
        "    cancel_reservation_dict =dict()\n",
        "\n",
        "    if key== 'cancel':\n",
        "      res_file=\"canceled_reservs.json\"\n",
        "      reservations='reservations4.json'\n",
        "    elif key=='active':\n",
        "      res_file='active_reservs.json'\n",
        "      reservations='reservations4.json'\n",
        "    elif key=='done':\n",
        "      res_file=\"done_reservs.json\"\n",
        "      reservations='active_reservs.json'\n",
        "    with open(reservations, 'r') as reserv_list:\n",
        "        reservation_dict = json.load(reserv_list)\n",
        "    with open(res_file, 'r') as cancel_reserv_list:\n",
        "        cancel_reservation_dict = json.load(cancel_reserv_list)\n",
        "    cancel_reservation_dict['max_reservation'][0]['max']=reservation_dict['max_reservation'][0]['max']\n",
        "    for c,inner_dict in enumerate(reservation_dict[\"reservations\"]):\n",
        "        # reservation_dict[\"reservations\"] is a list\n",
        "        if inner_dict[\"reservation\"]==int_reserv_to_del:\n",
        "            to_del=c\n",
        "            is_found=True\n",
        "    if is_found:\n",
        "        cancel_reservation_dict[\"reservations\"].append(reservation_dict[\"reservations\"].pop(to_del))\n",
        "        with open(reservations, 'w') as reserv_list:\n",
        "            json.dump(reservation_dict, reserv_list, indent=4)\n",
        "        with open(res_file, 'w') as cancel_reserv_list:\n",
        "            json.dump(cancel_reservation_dict, cancel_reserv_list, indent=4)\n",
        "    return is_found\n"
      ],
      "execution_count": null,
      "outputs": []
    },
    {
      "cell_type": "markdown",
      "metadata": {
        "id": "c2crMCFmKRDG"
      },
      "source": [
        "get_room_price return the price of the room due to  the parameter room_type , that can be 'single' , 'double', 'king size','suite'...etc.\n",
        "the prices are in 'prices.json' file."
      ]
    },
    {
      "cell_type": "code",
      "metadata": {
        "id": "dyWgdmjugKX_"
      },
      "source": [
        "def get_room_price(room_type):\n",
        "    prices_dict=dict()\n",
        "    with open ('prices.json','r') as f_prices:\n",
        "       prices_dict = json.load(f_prices)\n",
        "    for item in prices_dict['room price']:\n",
        "      return item[room_type]"
      ],
      "execution_count": null,
      "outputs": []
    },
    {
      "cell_type": "code",
      "metadata": {
        "id": "5I_9_n89XBH2",
        "colab": {
          "base_uri": "https://localhost:8080/"
        },
        "outputId": "db56972e-6a9f-4fa3-a42c-33a2e1932b3e"
      },
      "source": [
        "get_room_price('king size')"
      ],
      "execution_count": null,
      "outputs": [
        {
          "output_type": "execute_result",
          "data": {
            "text/plain": [
              "550"
            ]
          },
          "metadata": {
            "tags": []
          },
          "execution_count": 75
        }
      ]
    },
    {
      "cell_type": "markdown",
      "metadata": {
        "id": "RiZJ5A02gu-k"
      },
      "source": [
        "The 'register_guest' register a guest,after succesfuly process , you can make reservation to this guest."
      ]
    },
    {
      "cell_type": "code",
      "metadata": {
        "id": "6C3Y0IQHe5Dq"
      },
      "source": [
        "def register_guest(first_name,last_name,gid,phone,eml):\n",
        "  guests_dict=dict()\n",
        "  with open('guests.json','r') as f_guests:\n",
        "    guests_dict=json.load(f_guests)\n",
        "  if len(guests_dict['guests'])!=0:\n",
        "    for item in guests_dict['guests']:\n",
        "        if item['id']==gid :\n",
        "            print('Guest allredy register')\n",
        "            return\n",
        "  register_dict={'id': gid,'first name': first_name,'last name': last_name,'phone':phone,'email':eml,'reservations': []}\n",
        "\n",
        "  guests_dict['guests'].append(register_dict)\n",
        "  with open('guests.json', 'w') as f_guests_out:\n",
        "    json.dump(guests_dict,f_guests_out,indent=4)\n",
        "\n",
        "\n",
        "        "
      ],
      "execution_count": null,
      "outputs": []
    },
    {
      "cell_type": "markdown",
      "metadata": {
        "id": "J7L494a2p-HE"
      },
      "source": [
        "The Function 'update_guest_resrevation' update Reservations status in guest card that created in 'register_guest' function.The function get 3 parameters , guest id , reservation number, and key .The guest may have sevaral Reservation this function update the status to , 'active' when key = 'check in',\n",
        "to 'done' when key ='check out' and 'cancel' when key='cancel',in case of key = 'check in' or 'check out' the function update the 'checked in' or 'checked out' resepectivly with the time and date when the action accured."
      ]
    },
    {
      "cell_type": "code",
      "metadata": {
        "id": "pWYwzm_wuWoZ"
      },
      "source": [
        "def update_guest_resrevation(gid,reservation_num,key):\n",
        "    guests_dict=dict()\n",
        "    with open ('guests.json','r') as f_guests:\n",
        "        guests_dict=json.load(f_guests)\n",
        "    for guest in guests_dict['guests']:\n",
        "      if guest['id']== gid:\n",
        "        if key == 'new':\n",
        "          guest['reservations'].append({'number': reservation_num, 'checked in': '', 'checked out':'','status':'progress'})       \n",
        "        else:\n",
        "            for i in guest['reservations']:\n",
        "              if i['number']==reservation_num:\n",
        "                if key=='check in' and i['status'] =='progress':\n",
        "                  i['checked in']=datetime.now().strftime('%d/%m/%Y %H:%M:%S')\n",
        "                  i['status']='active'\n",
        "                elif key=='check out'and i['status']=='active':\n",
        "                  i['checked out']=datetime.now().strftime('%d/%m/%Y %H:%M:%S')\n",
        "                  i['status']='done'\n",
        "                elif key=='cancel' and i['status']=='progress':\n",
        "                  if i['status']== 'active' or i['status']=='done':\n",
        "                    print(i['status'])\n",
        "                    return False\n",
        "                  else:\n",
        "                    i['status']='cancel'\n",
        "                else:\n",
        "                  return False\n",
        "    with open('guests.json','w') as f_guest_out:\n",
        "        json.dump(guests_dict, f_guest_out, indent=4)\n",
        "    return True"
      ],
      "execution_count": null,
      "outputs": []
    },
    {
      "cell_type": "markdown",
      "metadata": {
        "id": "95accNhS176r"
      },
      "source": [
        "## Menu Handeling Functions"
      ]
    },
    {
      "cell_type": "markdown",
      "metadata": {
        "id": "QfDv9XsHtkHa"
      },
      "source": [
        "The function 'make_menu' create a numbered menu it takes the menu words from list that declare previously ,and take another str parameter for the menu title.\n",
        "the function return user selection if it's valid if not it's return -1."
      ]
    },
    {
      "cell_type": "code",
      "metadata": {
        "id": "jC6F-_l2HMeD"
      },
      "source": [
        "def make_menu(mlist, menu_title):\n",
        "    print(menu_title)\n",
        "    print('-' * len(menu_title))\n",
        "    for cnt, item in enumerate(mlist):\n",
        "        print(f'[{cnt + 1}] {item}')\n",
        "    user_select=input(\"SELECT : \")\n",
        "    if user_select.isdigit():\n",
        "        user_select=int(user_select)\n",
        "    else:\n",
        "        return\n",
        "    if user_select in range(0,len(mlist)+1):\n",
        "        return user_select\n",
        "    return -1"
      ],
      "execution_count": null,
      "outputs": []
    },
    {
      "cell_type": "markdown",
      "metadata": {
        "id": "-MrUU_FDvQ9c"
      },
      "source": [
        "The function 'make_card_params' take input data from user,the difference between this function and make_menu function is that this function take typed parameters like first name , last name ,ID , Date and the make_menu is only number selection."
      ]
    },
    {
      "cell_type": "code",
      "metadata": {
        "id": "rbt0ZqpmPb4D"
      },
      "source": [
        "def make_card_params(list_params, card_title) :\n",
        "    print(card_title)\n",
        "    lst_params = []\n",
        "    for select in list_params:\n",
        "\n",
        "        user_input = input(select)\n",
        "        lst_params.append(user_input)\n",
        "    return lst_params"
      ],
      "execution_count": null,
      "outputs": []
    },
    {
      "cell_type": "markdown",
      "metadata": {
        "id": "VYDur3pqtEok"
      },
      "source": [
        "The function 'validate_input' checks if the user/guest inputs are valid.it uses the re package for this task."
      ]
    },
    {
      "cell_type": "code",
      "metadata": {
        "id": "toQg7emHRtOg"
      },
      "source": [
        "def validate_input(str_input,inp_pattern):\n",
        "    match = re.match(inp_pattern,str_input)\n",
        "    if match is not None :\n",
        "        if len(match.group())==len(str_input):\n",
        "            return True\n",
        "        else:\n",
        "            return False\n",
        "    return  False\n",
        "def check_date_validity(str_date):\n",
        "    input_date=datetime.now()\n",
        "    try:\n",
        "        input_date=datetime.strptime(str_date,'%d/%m/%Y')\n",
        "    except ValueError:\n",
        "        #print(\"The Date  is Not Exist\")\n",
        "        return False\n",
        "    # today_date=datetime.now()\n",
        "    date_utc=(datetime.now(tz=pytz.UTC))\n",
        "\n",
        "    today_isr = date_utc.astimezone(pytz.timezone('Asia/Jerusalem'))\n",
        "    today=(today_isr.strftime('%d/%m/%Y'))\n",
        "    if today_isr.date() > input_date.date() :\n",
        "        #the date must be higher or equal to now()\n",
        "        return False\n",
        "\n",
        "    return True"
      ],
      "execution_count": null,
      "outputs": []
    },
    {
      "cell_type": "markdown",
      "metadata": {
        "id": "AsAw7vef2h-I"
      },
      "source": [
        "# Search Reservations & Guests  Data Functions"
      ]
    },
    {
      "cell_type": "code",
      "metadata": {
        "id": "OuEvOwhrS-0_"
      },
      "source": [
        "def get_rservation_attrib(reserv_num,res_attrib=\"id\",key='progress'):\n",
        "    reserv_dict = dict()\n",
        "    if key=='cancel':\n",
        "      reservations='canceled_reservs.json'\n",
        "    elif key=='done':\n",
        "      reservations='done_reservs.json'\n",
        "    elif key=='active':\n",
        "      reservations='active_reservs.json'\n",
        "    elif key== 'progress':\n",
        "      reservations='reservations4.json'\n",
        "    with open(reservations, 'r') as f_reserv:\n",
        "        reserv_dict = json.load(f_reserv)\n",
        "    for item in reserv_dict['reservations']:\n",
        "        if item['reservation'] == reserv_num:\n",
        "          return item[res_attrib]"
      ],
      "execution_count": null,
      "outputs": []
    },
    {
      "cell_type": "code",
      "metadata": {
        "id": "Ghx_ipFDxKqG"
      },
      "source": [
        "def search_reservation_by_key(key_enter,value,key='progress'):\n",
        "    reservation_dict = dict()\n",
        "    reservation_list= list()\n",
        "    res_file=''\n",
        "    if key=='progress':\n",
        "      res_file='reservations4.json'\n",
        "    elif key=='done':\n",
        "      res_file='done_reservs.json'\n",
        "    elif key=='canceled':\n",
        "      res_file='canceled_reservs.json'\n",
        "    elif key=='active':\n",
        "      res_file='active_reservs.json'\n",
        "\n",
        "\n",
        "    with open(res_file, 'r') as reserv_list:\n",
        "        reservation_dict = json.load(reserv_list)\n",
        "    for inner_dict in reservation_dict[\"reservations\"]:\n",
        "        if inner_dict[key_enter]== value :\n",
        "            reservation_list.append(inner_dict)\n",
        "    return reservation_list"
      ],
      "execution_count": null,
      "outputs": []
    },
    {
      "cell_type": "markdown",
      "metadata": {
        "id": "VWJ8GYy9GlXv"
      },
      "source": [
        "The function 'guest_by_reserv_status' get status parameter and return guests information \n",
        "(List of Lists) that have this status parameter in one of their Reservations (guest can have more than one reservation) the ststus can be ,'progress' fore future reservation, 'done' for finished reservation (due to check out), 'cancel' for canceled reservation and 'active' for |Reservation that are now active (the Guest/s in the Hotel)"
      ]
    },
    {
      "cell_type": "code",
      "metadata": {
        "id": "mQuHG5xmjOCf"
      },
      "source": [
        "def guest_by_reserv_status(status='active'):\n",
        "  dict_guests=dict=()\n",
        "  ls_guest=list()\n",
        "  with open('guests.json','r') as f_guests:\n",
        "    dict_guests=json.load(f_guests)\n",
        "  for item in dict_guests['guests']:\n",
        "    for i in item['reservations']:\n",
        "      if i['status']== status:\n",
        "        ls_guest.append([item['id'],item['first name'],item['last name'],item['phone'],item['email'],i['number']])\n",
        "  return ls_guest"
      ],
      "execution_count": null,
      "outputs": []
    },
    {
      "cell_type": "markdown",
      "metadata": {
        "id": "c16gDPdJs_US"
      },
      "source": [
        "The search_reservation_by_name function\n",
        "Search Reservation by name , it mean by reservation number,the key tell to the function in wich json file to search the reservation.you don't have to enter the full reservation number ,for ex. for 1*2 the result will be a list of reservation numbers like 10293339 ,10293340, \n",
        "10293341.... etc. the search can be in 'reservations4.json' that keeps the future reservations when key='progress'(default),in 'canceled_reservs.json' that keep the canceled reservations when the key = 'cancel' and 'done_reservs.json' that keep reservations that finished due Check Out operation when key='done'\n",
        "and 'active_reservs.json' that keeps the checked in reservations when key='active'."
      ]
    },
    {
      "cell_type": "code",
      "metadata": {
        "id": "zJugK0R4BRtX"
      },
      "source": [
        "def search_reservation_by_name(st_input,key='progress'):\n",
        "  res_file=''\n",
        "  if key=='progress':\n",
        "    res_file='reservations4.json'\n",
        "  elif key=='canceled':\n",
        "    res_file='canceled_reservs.json'\n",
        "  elif key=='done':\n",
        "    res_file='done_reservs.json'\n",
        "  elif key=='active':\n",
        "    res_file='active_reservs.json'\n",
        "  \n",
        "  reserv_found_list=list()\n",
        "  resev_dict=dict()\n",
        "  ls_input=list()\n",
        "  st_is_digit=str()\n",
        "  with open(res_file,'r')  as f_reserv:\n",
        "      reserv_dict= json.load(f_reserv)\n",
        "  reserv_len=len(str(reserv_dict['max_reservation'][0]['max']))\n",
        "  mul=reserv_len - len(st_input)\n",
        "  st_is_digit=st_input.replace('*','1')\n",
        "  if st_is_digit.isdigit():\n",
        "      st_input=st_input.replace('*','[0-9]?')\n",
        "      ls_input=list(st_input)\n",
        "      ls_input=ls_input +['[0-9]?'* mul]\n",
        "      st_input=''.join(ls_input)\n",
        "      with open(res_file,'r')  as f_reserv:\n",
        "          resev_dict=json.load(f_reserv)\n",
        "      for i in resev_dict['reservations']:\n",
        "          try:\n",
        "            \n",
        "              m=re.match(st_input,str(i['reservation']))\n",
        "              reserv_found_list.append(m.group())\n",
        "          except:\n",
        "              continue\n",
        "\n",
        "  return reserv_found_list"
      ],
      "execution_count": null,
      "outputs": []
    },
    {
      "cell_type": "code",
      "metadata": {
        "id": "07AIF91Q9efq"
      },
      "source": [
        "def passed_dates_for_check_in_or_out(date_to_compare,key='check in'):\n",
        "  if key=='check in':\n",
        "    reservs_file='reservations4.json'\n",
        "  elif key=='check out':\n",
        "    reservs_file='active_reservs.json'\n",
        "  reservation_list=list()\n",
        "  reserv_dict=dict()\n",
        "  with open(reservs_file) as f_reserv:\n",
        "    reserv_dict=json.load(f_reserv)\n",
        "  for item in reserv_dict['reservations']:\n",
        "    \n",
        "    if datetime.strptime(item[key],'%d/%m/%Y') < datetime.strptime(date_to_compare,'%d/%m/%Y'):\n",
        "      reservation_list.append(item)\n",
        "\n",
        "  return (reservation_list)"
      ],
      "execution_count": null,
      "outputs": []
    },
    {
      "cell_type": "code",
      "metadata": {
        "colab": {
          "base_uri": "https://localhost:8080/"
        },
        "id": "6l-CCzGmE6M0",
        "outputId": "41dc6f15-8b77-42f7-bdb4-24fcb97580e7"
      },
      "source": [
        "passed_dates_for_check_in_or_out('14/06/2021',key='check out')"
      ],
      "execution_count": null,
      "outputs": [
        {
          "output_type": "execute_result",
          "data": {
            "text/plain": [
              "[{'check in': '02/06/2021',\n",
              "  'check out': '05/06/2021',\n",
              "  'date issu': '30/05/2021 20:52:00',\n",
              "  'duration': 3,\n",
              "  'first name': 'jon',\n",
              "  'id': '0088998899',\n",
              "  'include BF': 'y',\n",
              "  'include WiFi': 'y',\n",
              "  'last name': 'do',\n",
              "  'pay method': 'Credit Card',\n",
              "  'reservation': 101001,\n",
              "  'room number': '101',\n",
              "  'room price': 1350,\n",
              "  'room type': 'single'},\n",
              " {'check in': '03/06/2021',\n",
              "  'check out': '08/06/2021',\n",
              "  'date issu': '30/05/2021 21:37:46',\n",
              "  'duration': 5,\n",
              "  'first name': 'don',\n",
              "  'id': '087687687',\n",
              "  'include BF': 'y',\n",
              "  'include WiFi': 'y',\n",
              "  'last name': 'king',\n",
              "  'pay method': 'Cheqes',\n",
              "  'reservation': 101003,\n",
              "  'room number': '306',\n",
              "  'room price': 6000,\n",
              "  'room type': 'suite'},\n",
              " {'check in': '03/06/2021',\n",
              "  'check out': '08/06/2021',\n",
              "  'date issu': '30/05/2021 22:13:18',\n",
              "  'duration': 5,\n",
              "  'first name': 'kal',\n",
              "  'id': '0111111111',\n",
              "  'include BF': 'y',\n",
              "  'include WiFi': 'y',\n",
              "  'last name': 'el',\n",
              "  'pay method': 'Cash',\n",
              "  'reservation': 101006,\n",
              "  'room number': '303',\n",
              "  'room price': 6000,\n",
              "  'room type': 'suite'},\n",
              " {'check in': '03/06/2021',\n",
              "  'check out': '04/06/2021',\n",
              "  'date issu': '02/06/2021 21:41:36',\n",
              "  'duration': 1,\n",
              "  'first name': 'daniel',\n",
              "  'id': '041621822',\n",
              "  'include BF': 'y',\n",
              "  'include WiFi': 'y',\n",
              "  'last name': 'massaro',\n",
              "  'pay method': 'Cheqes',\n",
              "  'reservation': 101013,\n",
              "  'room number': '205',\n",
              "  'room price': 520,\n",
              "  'room type': 'twin'},\n",
              " {'check in': '03/06/2021',\n",
              "  'check out': '04/06/2021',\n",
              "  'date issu': '03/06/2021 20:01:39',\n",
              "  'duration': 1,\n",
              "  'first name': 'tony',\n",
              "  'id': '09890901212',\n",
              "  'include BF': 'y',\n",
              "  'include WiFi': 'y',\n",
              "  'last name': 'missely',\n",
              "  'pay method': 'Cheqes',\n",
              "  'reservation': 101016,\n",
              "  'room number': '201',\n",
              "  'room price': 450,\n",
              "  'room type': 'single'},\n",
              " {'check in': '03/06/2021',\n",
              "  'check out': '04/06/2021',\n",
              "  'date issu': '03/06/2021 20:02:54',\n",
              "  'duration': 1,\n",
              "  'first name': 'mel',\n",
              "  'id': '09877890001',\n",
              "  'include BF': 'y',\n",
              "  'include WiFi': 'y',\n",
              "  'last name': 'brooks',\n",
              "  'pay method': 'Cash',\n",
              "  'reservation': 101017,\n",
              "  'room number': '112',\n",
              "  'room price': 640,\n",
              "  'room type': 'triple'}]"
            ]
          },
          "metadata": {
            "tags": []
          },
          "execution_count": 86
        }
      ]
    },
    {
      "cell_type": "markdown",
      "metadata": {
        "id": "lvyreOBN3GNa"
      },
      "source": [
        "# Handel Print"
      ]
    },
    {
      "cell_type": "markdown",
      "metadata": {
        "id": "B9olzpu7J2la"
      },
      "source": [
        "functin 'print_pdf' and class PDF create a pdf vertion of Reservation."
      ]
    },
    {
      "cell_type": "code",
      "metadata": {
        "id": "j-NG3dFl2ZNG"
      },
      "source": [
        "from fpdf import FPDF\n",
        "\n",
        "class PDF(FPDF):\n",
        "  def header(self):\n",
        "   \n",
        "   self.image('/content/hotel_bel.jpg',10,20,50)\n",
        "   \n",
        "def print_pdf(dict_res):\n",
        "  st_hotel=str()\n",
        "  ls_hotel=list()\n",
        "  with open ('hotel.txt','r') as f:\n",
        "    ls_hotel=f.readlines()\n",
        "  st_hotel=''.join(ls_hotel)\n",
        "  ls_fname=list()\n",
        "  \n",
        "  pdf=PDF('P', 'mm', 'A4')\n",
        "\n",
        "  pdf.add_page()\n",
        "  pdf.set_font('Arial', '', 16)\n",
        "  pdf.set_title('Hotel Recipient')\n",
        "  pdf.cell(30,55,ln=1)\n",
        "  for key in dict_res:\n",
        "    pdf.cell(110,10,(f'{key.title():<15}  {dict_res[key]}'),border=True,ln=True)\n",
        "  pdf.cell(10,10,ln=1)\n",
        "  pdf.set_font('times','B',20)\n",
        "  pdf.multi_cell(190,10,st_hotel)\n",
        "  ls_fname.append('Res')\n",
        "  ls_fname.append(str(dict_res['reservation']))\n",
        "  ls_fname.append('.pdf')\n",
        "  st_fname=''.join(ls_fname)\n",
        "  pdf.output(st_fname)\n"
      ],
      "execution_count": null,
      "outputs": []
    },
    {
      "cell_type": "markdown",
      "metadata": {
        "id": "OdYNQCZvAV_q"
      },
      "source": [
        " example of add reservation \n",
        "\n",
        "\n",
        "---\n",
        "\n",
        "\n",
        "  Add Reservation Menu\n",
        "\n",
        "---\n",
        "\n",
        "\n",
        "\n",
        "  First Name : wil\n",
        "\n",
        "\n",
        "---\n",
        "\n",
        "\n",
        "  Last Name : smith\n",
        "\n",
        "\n",
        "---\n",
        "\n",
        "\n",
        "  Guest  ID : 089898944\n",
        "\n",
        "\n",
        "---\n",
        "\n",
        "\n",
        "  Check in[dd/mm/yyyy] : 20/06/2021\n",
        "\n",
        "---\n",
        "\n",
        "  Duration : 2\n",
        "\n",
        "---\n",
        "\n",
        "  Room Type [0]single [1]king size [2]\n",
        "\n",
        "  double [3]twin [4]triple [5]quad [6]suite : 3\n",
        "\n",
        "---\n",
        "\n",
        "  Cell Phone : 0524355677\n",
        "\n",
        "---\n",
        "\n",
        "  e-mail : wills@prince.com\n",
        "\n",
        "---\n",
        "\n",
        "  Payment Method  [1]-Cash [2]-Credit Card [3]-Cheqes3\n",
        "\n",
        "---\n",
        "\n",
        "  Select A Room Number from the list \n",
        "\n",
        "  205\n",
        "\n",
        "  206\n",
        "\n",
        "  301\n",
        "\n",
        "  302\n",
        "  \n",
        "\n",
        "  Select A Room Number  205\n",
        "\n",
        "---\n",
        "\n",
        "        Name :wil smith , ID: 089898944\n",
        "        Check in: 20/06/2021 ,Duration: 2 \n",
        "        Room Number :205, Room Type: twin\n",
        "        phone:0524355677  ,  email: wills@prince.com\n",
        "        Payment Method:Cheqes\n",
        "  \n",
        "Approve Resetrvation [1]Yes  [Any]Cancel 1"
      ]
    },
    {
      "cell_type": "markdown",
      "metadata": {
        "id": "9086_bD73QvI"
      },
      "source": [
        "#Main Function\n",
        "  ## Main Loop "
      ]
    },
    {
      "cell_type": "code",
      "metadata": {
        "id": "qQlCDqY-Hma7",
        "colab": {
          "base_uri": "https://localhost:8080/"
        },
        "outputId": "ffe5c359-de08-4ce3-d7d7-191314f02e4c"
      },
      "source": [
        "\n",
        "\n",
        "\n",
        "reset_system_date=str()\n",
        "date_utc=datetime.now(tz=pytz.UTC)\n",
        "today_isr = date_utc.astimezone(pytz.timezone('Asia/Jerusalem'))\n",
        "\n",
        "today=(today_isr.strftime('%d/%m/%Y'))\n",
        "logtxt='log'+today_isr.strftime('%m%Y')+'.log'\n",
        "\n",
        "\n",
        "# -------------Forced Check in in case of guest not checked in from a  reason-------------------\n",
        "def forced_checkin():\n",
        "  reservs_to_forced_checkin=passed_dates_for_check_in_or_out(today,key='check in')\n",
        "  for item in reservs_to_forced_checkin:\n",
        "    gid=item['id']\n",
        "    fname=item['first name']\n",
        "    lname=item['last name']\n",
        "    res_to_checked_in=item['reservation']\n",
        "    delete_reservation(res_to_checked_in,key='active')\n",
        "    update_guest_resrevation(gid,res_to_checked_in,key='check in')\n",
        "    # print(f'Reservation number {res_to_checked_in} of Guest {fname} {lname}  ID: {gid} Forced check in ')\n",
        "    with open (logtxt,'a') as flog:\n",
        "      flog.write(f'Reservation number {res_to_checked_in} of Guest {fname} {lname}  ID: {gid} Forced check in \\n')\n",
        "\n",
        "# -------------Forced Check out in case of guest not checked out from a  reason-------------------\n",
        "def forced_checkout():\n",
        "  reservs_to_forced_checkout=passed_dates_for_check_in_or_out(today,key='check out')\n",
        "  for item in reservs_to_forced_checkout:\n",
        "    gid=item['id']\n",
        "    fname=item['first name']\n",
        "    lname=item['last name']\n",
        "    res_to_checked_out=item['reservation']\n",
        "    delete_reservation(res_to_checked_out,key='done')\n",
        "    update_guest_resrevation(gid,res_to_checked_out,key='check out')\n",
        "    # print(f'Reservation number {res_to_checked_out} of Guest {fname} {lname}  ID: {gid} Forced check out ')\n",
        "    with open (logtxt,'a') as flog:\n",
        "      flog.write(f'Reservation number {res_to_checked_out} of Guest {fname} {lname}  ID: {gid} Forced check out \\n')\n",
        "\n",
        "\n",
        "#-----------------------------------Main Menu----------------------------------------\n",
        "add,cancel,show,chk_in,chkout,res_print,guests,future_res,search_room,rsystem,exit_val=1,2,3,4,5,6,7,8,9,10,11\n",
        "select=-2\n",
        "room_number=''\n",
        "is_validate=False\n",
        "true_or_false=list()\n",
        "while(select != exit_val):\n",
        "  print(datetime.now())\n",
        "  select=make_menu(main_menu,'Main Menu')\n",
        "  print(select)\n",
        "  \n",
        "#--------------------------ADD  RESERVATION---------------------------------------------\n",
        "  if select == add :\n",
        "    isfree=bool()\n",
        "    print('add reservation')\n",
        "    input_params=(make_card_params(make_resv_params,'Add Reservation Menu'))\n",
        "    fname,lname,gid,chkin,duration,rtype,phone,eml,pmd = tuple(input_params)\n",
        "    \n",
        "    \n",
        "    for c,item in enumerate(input_params):\n",
        "      true_or_false.append(validate_input(item,make_resv_regex[c]))#return list of True and False\n",
        "    # print(true_or_false)\n",
        "    if False not in true_or_false:\n",
        "      room_type=room_type_list[int(rtype)]\n",
        "      dur=int(duration)\n",
        "      pmethod=['Cash','Credit Card','Cheqes'][int(pmd)-1]\n",
        "      if check_date_validity(chkin): # check date validity after first filtered by \"validate input\"\n",
        "        chkin=datetime.strptime(chkin,'%d/%m/%Y').strftime('%d/%m/%Y')#change date format ex. 7/3/2021 to 07/03/2021 for access RoomDate table\n",
        "        print('Input params are validate')\n",
        "        is_validate=True\n",
        "      else:\n",
        "        is_validate=False\n",
        "        print('invalid Date format')\n",
        "    true_or_false=[]\n",
        "    if is_validate:\n",
        "      ls=list_rooms_by_type(room_type)\n",
        "      available_rooms=find_available_rooms(chkin,dur,ls)\n",
        "      print(\"Select A Room Number from the list \")\n",
        "      for room in available_rooms:\n",
        "        print(f'{room}')\n",
        "      room_number=input(\"Select A Room Number\")\n",
        "      while room_number not in available_rooms:\n",
        "          room_number=input(\"Room not in list, Select again :\")\n",
        "      reservatin_show(fname,lname,gid,chkin,duration,room_number,room_type,phone,eml,pmethod)\n",
        "      ans=input('Approve Resetrvation [1]Yes  [Any]Cancel')\n",
        "      if ans=='1':  \n",
        "        isfree=free_or_occupied_room(chkin, dur, room_number,key='occupied')\n",
        "        print(isfree)\n",
        "        if isfree:\n",
        "          register_guest(fname,lname,gid,phone,eml)\n",
        "          reservation_num=add_reservation(fname,lname,gid,chkin,dur,room_type,room_number,'y','y',pmethod)\n",
        "          print(reservation_num)\n",
        "          if reservation_num!=-1:\n",
        "            update_guest_resrevation(gid,reservation_num,key='new')\n",
        "        else:\n",
        "          print('Room Not avilable')\n",
        "      else:\n",
        "        print('cancel process')\n",
        "\n",
        "#---------------------CANCEL  RESERVATION---------------------------------------------\n",
        "  elif select==cancel:\n",
        "    \n",
        "    sel=make_menu(cancel_resurvation_card,'Cancel Reservation')\n",
        "    if sel==1:\n",
        "      res= make_card_params(['enter Reservation number'],'Cancel a reservation')\n",
        "    elif sel==2:\n",
        "      reservation_to_cancel=int()\n",
        "      # print('''Enter Reservation to search you can enter a full reservation\n",
        "      # number  or partial number with *') '''\n",
        "      print(\"\"\"NOTE: you can enter reservation number or number with \"*\" mixed\\n \n",
        "      for ex. value of 1*1 can  give a list of numbers 1011234, 1012345, 121838,for example.\"\"\")\n",
        "      inp_res = input('Enter Value to search:  ')\n",
        "      res_list = search_reservation_by_name(inp_res,key='progress')\n",
        "      for c,item in enumerate(res_list):\n",
        "        print(f'[{c+1}] {item}')\n",
        "      sel_num=int(input('Select Number from the List to Delete , [0] to cancel '))\n",
        "      if sel_num!=0:\n",
        "        reservation_to_cancel=int(res_list[sel_num - 1])\n",
        "        dt=get_rservation_attrib(reservation_to_cancel,res_attrib='check in')\n",
        "        dur=get_rservation_attrib(reservation_to_cancel,res_attrib='duration')\n",
        "        room=get_rservation_attrib(reservation_to_cancel,res_attrib='room number')\n",
        "        gid=get_rservation_attrib(reservation_to_cancel,res_attrib='id')\n",
        "        if check_date_validity(dt):\n",
        "          free_or_occupied_room(dt,dur,room,key='free')\n",
        "          delete_reservation(reservation_to_cancel,key='cancel')\n",
        "          update_guest_resrevation(gid,reservation_to_cancel,key='cancel')\n",
        "        else:\n",
        "          print(f'the cabnelation date of reservation number {res_list[sel_num - 1]} past')\n",
        "\n",
        "        \n",
        "      else:\n",
        "        input('operation canceld , press any key')\n",
        "\n",
        "\n",
        "\n",
        "  elif select==show:\n",
        "    print('Room Prices')\n",
        "    print(' Room Type        Price')\n",
        "    print('-------------------------------')\n",
        "    for room in room_type_list:\n",
        "      print(f\"\"\" {room:<10}        {get_room_price(room)}\n",
        "    -------------------------------\n",
        "    \"\"\")\n",
        "      \n",
        "#---------------------------------CHECK IN----------------------------------------------\n",
        "  elif select==chk_in:\n",
        "    list_of_res_nums=list()\n",
        "    list_of_id_nums=list()\n",
        "    print('Check in')\n",
        "\n",
        "    print(today)\n",
        "    \n",
        "    today_to_checked_in = search_reservation_by_key('check in',today,key='progress')\n",
        "    if len(today_to_checked_in) == 0:\n",
        "      print('There is no Reservations to check in today')\n",
        "    else:\n",
        "\n",
        "      print('[{}] {:<12} {:<12} {:<12} {}'.format('x','Reservation','First Name','Last Name','ID'))\n",
        "      for c,item in enumerate(today_to_checked_in):\n",
        "       list_of_res_nums.append(item['reservation'])\n",
        "       list_of_id_nums.append(item['id'])\n",
        "\n",
        "       print('[{}] {:<12} {:<12} {:<12} {}'.format(c,item['reservation'],item['first name'],item['last name'],item['id']))\n",
        "      res=input('select reservation to check in')\n",
        "      if res.isdigit():\n",
        "        if int(res) in range(0,len(list_of_res_nums)):\n",
        "          res_to_checked_in = list_of_res_nums[int(res)]\n",
        "          gid=list_of_id_nums[int(res)]\n",
        "          delete_reservation(res_to_checked_in,key='active')\n",
        "          update_guest_resrevation(gid,res_to_checked_in,key='check in')\n",
        "\n",
        "      else:\n",
        "        print('Wrong input')\n",
        "    input('Press Any Key...........')    \n",
        "#---------------------------------CHECK OUT----------------------------------------------\n",
        "  elif select==chkout:\n",
        "    isupdate=bool()\n",
        "    print('Check out')\n",
        "    list_of_res_nums=list()\n",
        "    list_of_id_nums=list()\n",
        "\n",
        "    today_to_checked_out = search_reservation_by_key('check out',today,key='active')\n",
        "    if len(today_to_checked_out) == 0:\n",
        "      print('There is no Reservations to check out today')\n",
        "    else:\n",
        "      print('[{}] {:<12} {:<12} {:<12} {}'.format('x','Reservation','First Name','Last Name','ID'))\n",
        "      for c,item in enumerate(today_to_checked_out):\n",
        "       list_of_res_nums.append(item['reservation'])\n",
        "       list_of_id_nums.append(item['id'])\n",
        "       print('[{}] {:<12} {:<12} {:<12}  {}'.format(c,item['reservation'],item['first name'],item['last name'],item['id']))\n",
        "      res=input('select reservation to check out')\n",
        "      if res.isdigit() :\n",
        "        if int(res) in  range(0,len(list_of_res_nums)):\n",
        "          res_to_checked_out = list_of_res_nums[int(res)]\n",
        "          gid=list_of_id_nums[int(res)]\n",
        "          isupdate=update_guest_resrevation(gid,res_to_checked_out,key='check out')\n",
        "          \n",
        "          if isupdate:\n",
        "            delete_reservation(res_to_checked_out,key='done')\n",
        "          else:\n",
        "            print('The Reservation Not Checked in ,So you can not Check out')\n",
        "            ans=input ('do you wnat to forced check out ? [1]Yes [2] No')\n",
        "            if ans=='1':\n",
        "              \n",
        "              forced_checkin()\n",
        "              update_guest_resrevation(gid,res_to_checked_out,key='check out')\n",
        "              delete_reservation(res_to_checked_out,key='done')\n",
        "\n",
        "            elif ans=='2':\n",
        "              print('reservation no checked out')\n",
        "\n",
        "    input('Press Any Key...........')\n",
        "\n",
        "            \n",
        "# -------------------------------actual/done/cancel reservations----------------------------------\n",
        "  elif select==res_print:\n",
        "    sel=make_menu(show_res_menu,'Show Reservations')\n",
        "    if sel==1:\n",
        "      key_search='done'\n",
        "    elif sel==2:\n",
        "      key_search='canceled' \n",
        "    elif sel==3:\n",
        "      key_search='progress'\n",
        "    elif sel==4:\n",
        "      key_search='active'\n",
        "    else:\n",
        "      key_search=0\n",
        "    if key_search !=0:\n",
        "      print(\"\"\"NOTE: you can enter reservation number or number with \"*\" mixed\n",
        "      for ex. value of 1*1 can  give a list of numbers 1011234, 1012345, 121838,for example.\"\"\")\n",
        "      inp_res = input('Enter Value to search:  ')\n",
        "      res_list = search_reservation_by_name(inp_res,key=key_search)\n",
        "      if len(res_list)!=0:\n",
        "        for c,item in enumerate(res_list):\n",
        "          print(f'[{c+1}] {item}')\n",
        "        sel_num=int(input('Select Number from the List to Show , [0] cancel '))\n",
        "        if sel_num!=0 and sel_num <= len(res_list):\n",
        "          print(type(res_list[sel_num-1]))\n",
        "          dict_res=(search_reservation_by_key('reservation',int(res_list[sel_num-1]),key_search))[0]\n",
        "          for key in dict_res:\n",
        "            print(f'{key.title():<15}  {dict_res[key]}')\n",
        "            # print_pdf(f'{key.title():<15}  {dict_res[key]}')\n",
        "            print('-'*50)\n",
        "          ans=input('make a pdf version press [1]YES [any key]NO')\n",
        "          if ans=='1':\n",
        "            print_pdf(dict_res)\n",
        "            print('PDF file was produced')\n",
        "      else:\n",
        "        print(f'{key_search} reservation not found ')\n",
        "    else:\n",
        "      input('Exit Operation , Press any key to main menu')\n",
        "# -------------------------------------Guests in Hotel-------------------------------------------------\n",
        "  elif select==guests:\n",
        "    # --------you need to reset system\\forced check in\\out that overdate to know the real number of guests in hotel---------------\n",
        "    #---------if the system not reset today the system will reset here (the system reset only every day once by manualy or when the program loaded)\n",
        "    print('Guests in Hotel')\n",
        "    date_utc=datetime.now(tz=pytz.UTC)\n",
        "    today_isr = date_utc.astimezone(pytz.timezone('Asia/Jerusalem'))\n",
        "    reset_system_date=(today_isr.strftime('%d/%m/%Y'))\n",
        "    if reset_system_date!=today:\n",
        "      forced_checkin()\n",
        "      forced_checkout()\n",
        "      today=reset_system_date\n",
        "    \n",
        "    ls_guests=guest_by_reserv_status('active')\n",
        "    for c,item in enumerate(ls_guests):\n",
        "      print(f'[{c}]',end='')\n",
        "      for i in item:\n",
        "        print (i,end=' , ')\n",
        "      print()\n",
        "# -------------------------------------Guests with future Reservations---------------------------------\n",
        "  elif select==future_res:\n",
        "    # --------you need to reset system\\forced check in\\out that overdate to know the Guests with future Reservations---------------\n",
        "    #---------if the system not reset today the system will reset here (the system reset only every day once by manualy or when the program loaded)\n",
        "    date_utc=datetime.now(tz=pytz.UTC)\n",
        "    today_isr = date_utc.astimezone(pytz.timezone('Asia/Jerusalem'))\n",
        "    reset_system_date=(today_isr.strftime('%d/%m/%Y'))\n",
        "    if reset_system_date!=today:\n",
        "      forced_checkin()\n",
        "      forced_checkout()\n",
        "      today=reset_system_date\n",
        "\n",
        "    print('Guests with future reservation/s')\n",
        "    ls_guests=guest_by_reserv_status('progress')\n",
        "    for c,item in enumerate(ls_guests):\n",
        "      print(f'[{c}]',end='')\n",
        "      for i in item:\n",
        "        print (i,end=' , ')\n",
        "      print()\n",
        "    input('Press Any Key......')\n",
        "#----------------------------------------------search room by dates---------------------------------------\n",
        "  elif select==search_room:\n",
        "    rtype=str()\n",
        "    ls=list()\n",
        "    true_or_false=list()\n",
        "    sel=make_menu(room_type_list,'Select Room type to search')\n",
        "    \n",
        "    input_params=make_card_params(search_room_params,'Date slice')\n",
        "    for c,i in enumerate(input_params):\n",
        "      true_or_false.append(validate_input(i,search_room_regex[c]))\n",
        "      if c== 0:\n",
        "        true_or_false.append(check_date_validity(i))\n",
        "    if False not in true_or_false:     \n",
        "      date_inp=input_params[0]\n",
        "      #nesecery for change date format for ex. 2/7/2021 to 02/07/2021 for access date in RoomDate table\n",
        "      date_inp=datetime.strptime(date_inp,'%d/%m/%Y').strftime('%d/%m/%Y')\n",
        "      if sel!=-1 or 0:\n",
        "        r_type=room_type_list[sel-1]\n",
        "      ls=list_rooms_by_type(r_type)\n",
        "      ls_rooms=find_available_rooms(date_inp,int(input_params[1]),ls)\n",
        "      print(f'Room Type [ {r_type} ] Available')\n",
        "      for c,room in enumerate(ls_rooms):\n",
        "        print(f'[{room}]  ',end='')\n",
        "        if c==4:\n",
        "          print()\n",
        "\n",
        "      print()\n",
        "      input('Press any key')\n",
        "    else:\n",
        "      input('One of your Inputs are wrong,press any key')\n",
        "#--------------------------------Reset System/forced check in and out that overdate-----------------------\n",
        "  elif select==rsystem:\n",
        "    date_utc=datetime.now(tz=pytz.UTC)\n",
        "    today_isr = date_utc.astimezone(pytz.timezone('Asia/Jerusalem'))\n",
        "    reset_system_date=(today_isr.strftime('%d/%m/%Y'))\n",
        "    if reset_system_date!=today:\n",
        "      forced_checkin()\n",
        "      forced_checkout()\n",
        "      today=reset_system_date\n",
        "  elif select==exit_val:\n",
        "    print('EXIT')\n",
        "\n",
        "  \n"
      ],
      "execution_count": null,
      "outputs": [
        {
          "output_type": "stream",
          "text": [
            "2021-06-22 19:15:14.853508\n",
            "Main Menu\n",
            "---------\n",
            "[1] Apply Reservation\n",
            "[2] Cancel Reservation\n",
            "[3] Show Room Prices\n",
            "[4] Check In\n",
            "[5] check out\n",
            "[6] Show/print Reservation\n",
            "[7] Guests in Hotel\n",
            "[8] Future Reservation with Guest details\n",
            "[9] Search available Room\n",
            "[10] Reset System\n",
            "[11] EXIT\n",
            "SELECT : 1\n",
            "1\n",
            "add reservation\n",
            "Add Reservation Menu\n",
            "First Name : elaz\n",
            "Last Name : cohen\n",
            "Guest  ID : 034568877\n",
            "Check in[dd/mm/yyyy] : 20/06/2021\n",
            "Duration : 3\n",
            "Room Type [0]single [1]king size [2]double [3]twin [4]triple [5]quad [6]suite : 2\n",
            "Cell Phone : 0524985421\n",
            "e-mail : ecohen@gmail.com\n",
            "Payment Method  [1]-Cash [2]-Credit Card [3]-Cheqes2\n",
            "invalid Date format\n",
            "2021-06-22 19:17:20.326234\n",
            "Main Menu\n",
            "---------\n",
            "[1] Apply Reservation\n",
            "[2] Cancel Reservation\n",
            "[3] Show Room Prices\n",
            "[4] Check In\n",
            "[5] check out\n",
            "[6] Show/print Reservation\n",
            "[7] Guests in Hotel\n",
            "[8] Future Reservation with Guest details\n",
            "[9] Search available Room\n",
            "[10] Reset System\n",
            "[11] EXIT\n",
            "SELECT : 1\n",
            "1\n",
            "add reservation\n",
            "Add Reservation Menu\n",
            "First Name : elaza\n",
            "Last Name : cohen\n",
            "Guest  ID : 034879912\n",
            "Check in[dd/mm/yyyy] : 22/06/2021\n",
            "Duration : 3\n",
            "Room Type [0]single [1]king size [2]double [3]twin [4]triple [5]quad [6]suite : 3\n",
            "Cell Phone : 0524987321\n",
            "e-mail : ecohen@gmail.com\n",
            "Payment Method  [1]-Cash [2]-Credit Card [3]-Cheqes2\n",
            "Input params are validate\n",
            "Select A Room Number from the list \n",
            "205\n",
            "206\n",
            "301\n",
            "302\n",
            "Select A Room Number302\n",
            "\n",
            "        Name :elaza cohen , ID: 034879912\n",
            "        Check in: 22/06/2021 ,Duration: 3 \n",
            "        Room Number :302, Room Type: twin\n",
            "        phone:0524987321  ,  email: ecohen@gmail.com\n",
            "        Payment Method:Credit Card\n",
            "  \n",
            "Approve Resetrvation [1]Yes  [Any]Cancel1\n",
            "True\n",
            "101021\n",
            "2021-06-22 19:19:01.580673\n",
            "Main Menu\n",
            "---------\n",
            "[1] Apply Reservation\n",
            "[2] Cancel Reservation\n",
            "[3] Show Room Prices\n",
            "[4] Check In\n",
            "[5] check out\n",
            "[6] Show/print Reservation\n",
            "[7] Guests in Hotel\n",
            "[8] Future Reservation with Guest details\n",
            "[9] Search available Room\n",
            "[10] Reset System\n",
            "[11] EXIT\n",
            "SELECT : 4\n",
            "4\n",
            "Check in\n",
            "22/06/2021\n",
            "[x] Reservation  First Name   Last Name    ID\n",
            "[0] 101021       elaza        cohen        034879912\n",
            "select reservation to check in0\n",
            "Press Any Key...........\n",
            "2021-06-22 19:19:21.600237\n",
            "Main Menu\n",
            "---------\n",
            "[1] Apply Reservation\n",
            "[2] Cancel Reservation\n",
            "[3] Show Room Prices\n",
            "[4] Check In\n",
            "[5] check out\n",
            "[6] Show/print Reservation\n",
            "[7] Guests in Hotel\n",
            "[8] Future Reservation with Guest details\n",
            "[9] Search available Room\n",
            "[10] Reset System\n",
            "[11] EXIT\n",
            "SELECT : 4\n",
            "4\n",
            "Check in\n",
            "22/06/2021\n",
            "There is no Reservations to check in today\n",
            "Press Any Key...........\n",
            "2021-06-22 19:19:26.388455\n",
            "Main Menu\n",
            "---------\n",
            "[1] Apply Reservation\n",
            "[2] Cancel Reservation\n",
            "[3] Show Room Prices\n",
            "[4] Check In\n",
            "[5] check out\n",
            "[6] Show/print Reservation\n",
            "[7] Guests in Hotel\n",
            "[8] Future Reservation with Guest details\n",
            "[9] Search available Room\n",
            "[10] Reset System\n",
            "[11] EXIT\n",
            "SELECT : 5\n",
            "5\n",
            "Check out\n",
            "There is no Reservations to check out today\n",
            "Press Any Key...........\n",
            "2021-06-22 19:19:32.339003\n",
            "Main Menu\n",
            "---------\n",
            "[1] Apply Reservation\n",
            "[2] Cancel Reservation\n",
            "[3] Show Room Prices\n",
            "[4] Check In\n",
            "[5] check out\n",
            "[6] Show/print Reservation\n",
            "[7] Guests in Hotel\n",
            "[8] Future Reservation with Guest details\n",
            "[9] Search available Room\n",
            "[10] Reset System\n",
            "[11] EXIT\n",
            "SELECT : 11\n",
            "11\n",
            "EXIT\n"
          ],
          "name": "stdout"
        }
      ]
    }
  ]
}